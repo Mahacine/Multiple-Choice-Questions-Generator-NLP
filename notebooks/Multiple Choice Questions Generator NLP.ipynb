{
 "cells": [
  {
   "cell_type": "markdown",
   "id": "9edd5471-a3db-4c80-a7d6-8cb20b8a1cbd",
   "metadata": {},
   "source": [
    "# Multiple Choice Questions Generator NLP"
   ]
  },
  {
   "cell_type": "code",
   "execution_count": 1,
   "id": "8b69e8a6-2714-46f0-8097-884a5ae9c7cb",
   "metadata": {},
   "outputs": [
    {
     "name": "stdout",
     "output_type": "stream",
     "text": [
      "Requirement already satisfied: spacy in c:\\programdata\\anaconda3\\lib\\site-packages (3.7.5)\n",
      "Requirement already satisfied: spacy-legacy<3.1.0,>=3.0.11 in c:\\programdata\\anaconda3\\lib\\site-packages (from spacy) (3.0.12)\n",
      "Requirement already satisfied: spacy-loggers<2.0.0,>=1.0.0 in c:\\programdata\\anaconda3\\lib\\site-packages (from spacy) (1.0.5)\n",
      "Requirement already satisfied: murmurhash<1.1.0,>=0.28.0 in c:\\programdata\\anaconda3\\lib\\site-packages (from spacy) (1.0.10)\n",
      "Requirement already satisfied: cymem<2.1.0,>=2.0.2 in c:\\programdata\\anaconda3\\lib\\site-packages (from spacy) (2.0.8)\n",
      "Requirement already satisfied: preshed<3.1.0,>=3.0.2 in c:\\programdata\\anaconda3\\lib\\site-packages (from spacy) (3.0.9)\n",
      "Requirement already satisfied: thinc<8.3.0,>=8.2.2 in c:\\programdata\\anaconda3\\lib\\site-packages (from spacy) (8.2.5)\n",
      "Requirement already satisfied: wasabi<1.2.0,>=0.9.1 in c:\\programdata\\anaconda3\\lib\\site-packages (from spacy) (1.1.3)\n",
      "Requirement already satisfied: srsly<3.0.0,>=2.4.3 in c:\\programdata\\anaconda3\\lib\\site-packages (from spacy) (2.4.8)\n",
      "Requirement already satisfied: catalogue<2.1.0,>=2.0.6 in c:\\programdata\\anaconda3\\lib\\site-packages (from spacy) (2.0.10)\n",
      "Requirement already satisfied: weasel<0.5.0,>=0.1.0 in c:\\programdata\\anaconda3\\lib\\site-packages (from spacy) (0.4.1)\n",
      "Requirement already satisfied: typer<1.0.0,>=0.3.0 in c:\\programdata\\anaconda3\\lib\\site-packages (from spacy) (0.12.3)\n",
      "Requirement already satisfied: tqdm<5.0.0,>=4.38.0 in c:\\programdata\\anaconda3\\lib\\site-packages (from spacy) (4.65.0)\n",
      "Requirement already satisfied: requests<3.0.0,>=2.13.0 in c:\\programdata\\anaconda3\\lib\\site-packages (from spacy) (2.31.0)\n",
      "Requirement already satisfied: pydantic!=1.8,!=1.8.1,<3.0.0,>=1.7.4 in c:\\programdata\\anaconda3\\lib\\site-packages (from spacy) (2.7.4)\n",
      "Requirement already satisfied: jinja2 in c:\\programdata\\anaconda3\\lib\\site-packages (from spacy) (3.1.2)\n",
      "Requirement already satisfied: setuptools in c:\\programdata\\anaconda3\\lib\\site-packages (from spacy) (68.2.2)\n",
      "Requirement already satisfied: packaging>=20.0 in c:\\programdata\\anaconda3\\lib\\site-packages (from spacy) (23.1)\n",
      "Requirement already satisfied: langcodes<4.0.0,>=3.2.0 in c:\\programdata\\anaconda3\\lib\\site-packages (from spacy) (3.4.0)\n",
      "Requirement already satisfied: numpy>=1.15.0 in c:\\programdata\\anaconda3\\lib\\site-packages (from spacy) (1.24.3)\n",
      "Requirement already satisfied: language-data>=1.2 in c:\\programdata\\anaconda3\\lib\\site-packages (from langcodes<4.0.0,>=3.2.0->spacy) (1.2.0)\n",
      "Requirement already satisfied: annotated-types>=0.4.0 in c:\\programdata\\anaconda3\\lib\\site-packages (from pydantic!=1.8,!=1.8.1,<3.0.0,>=1.7.4->spacy) (0.7.0)\n",
      "Requirement already satisfied: pydantic-core==2.18.4 in c:\\programdata\\anaconda3\\lib\\site-packages (from pydantic!=1.8,!=1.8.1,<3.0.0,>=1.7.4->spacy) (2.18.4)\n",
      "Requirement already satisfied: typing-extensions>=4.6.1 in c:\\programdata\\anaconda3\\lib\\site-packages (from pydantic!=1.8,!=1.8.1,<3.0.0,>=1.7.4->spacy) (4.12.2)\n",
      "Requirement already satisfied: charset-normalizer<4,>=2 in c:\\programdata\\anaconda3\\lib\\site-packages (from requests<3.0.0,>=2.13.0->spacy) (2.0.4)\n",
      "Requirement already satisfied: idna<4,>=2.5 in c:\\programdata\\anaconda3\\lib\\site-packages (from requests<3.0.0,>=2.13.0->spacy) (3.4)\n",
      "Requirement already satisfied: urllib3<3,>=1.21.1 in c:\\programdata\\anaconda3\\lib\\site-packages (from requests<3.0.0,>=2.13.0->spacy) (1.26.18)\n",
      "Requirement already satisfied: certifi>=2017.4.17 in c:\\programdata\\anaconda3\\lib\\site-packages (from requests<3.0.0,>=2.13.0->spacy) (2023.11.17)\n",
      "Requirement already satisfied: blis<0.8.0,>=0.7.8 in c:\\programdata\\anaconda3\\lib\\site-packages (from thinc<8.3.0,>=8.2.2->spacy) (0.7.11)\n",
      "Requirement already satisfied: confection<1.0.0,>=0.0.1 in c:\\programdata\\anaconda3\\lib\\site-packages (from thinc<8.3.0,>=8.2.2->spacy) (0.1.5)\n",
      "Requirement already satisfied: colorama in c:\\programdata\\anaconda3\\lib\\site-packages (from tqdm<5.0.0,>=4.38.0->spacy) (0.4.6)\n",
      "Requirement already satisfied: click>=8.0.0 in c:\\programdata\\anaconda3\\lib\\site-packages (from typer<1.0.0,>=0.3.0->spacy) (8.1.7)\n",
      "Requirement already satisfied: shellingham>=1.3.0 in c:\\programdata\\anaconda3\\lib\\site-packages (from typer<1.0.0,>=0.3.0->spacy) (1.5.4)\n",
      "Requirement already satisfied: rich>=10.11.0 in c:\\programdata\\anaconda3\\lib\\site-packages (from typer<1.0.0,>=0.3.0->spacy) (13.3.5)\n",
      "Requirement already satisfied: cloudpathlib<1.0.0,>=0.7.0 in c:\\programdata\\anaconda3\\lib\\site-packages (from weasel<0.5.0,>=0.1.0->spacy) (0.18.1)\n",
      "Requirement already satisfied: smart-open<8.0.0,>=5.2.1 in c:\\programdata\\anaconda3\\lib\\site-packages (from weasel<0.5.0,>=0.1.0->spacy) (5.2.1)\n",
      "Requirement already satisfied: MarkupSafe>=2.0 in c:\\programdata\\anaconda3\\lib\\site-packages (from jinja2->spacy) (2.1.3)\n",
      "Requirement already satisfied: marisa-trie>=0.7.7 in c:\\programdata\\anaconda3\\lib\\site-packages (from language-data>=1.2->langcodes<4.0.0,>=3.2.0->spacy) (1.2.0)\n",
      "Requirement already satisfied: markdown-it-py<3.0.0,>=2.2.0 in c:\\programdata\\anaconda3\\lib\\site-packages (from rich>=10.11.0->typer<1.0.0,>=0.3.0->spacy) (2.2.0)\n",
      "Requirement already satisfied: pygments<3.0.0,>=2.13.0 in c:\\programdata\\anaconda3\\lib\\site-packages (from rich>=10.11.0->typer<1.0.0,>=0.3.0->spacy) (2.15.1)\n",
      "Requirement already satisfied: mdurl~=0.1 in c:\\programdata\\anaconda3\\lib\\site-packages (from markdown-it-py<3.0.0,>=2.2.0->rich>=10.11.0->typer<1.0.0,>=0.3.0->spacy) (0.1.0)\n"
     ]
    }
   ],
   "source": [
    "!pip install spacy"
   ]
  },
  {
   "cell_type": "code",
   "execution_count": 2,
   "id": "395f3e7c-1945-4bce-b1e6-10434ceffd32",
   "metadata": {},
   "outputs": [],
   "source": [
    "import spacy\n",
    "import random\n",
    "from collections import Counter"
   ]
  },
  {
   "cell_type": "code",
   "execution_count": 3,
   "id": "39593d61-c100-441c-98ee-90996af8554e",
   "metadata": {},
   "outputs": [],
   "source": [
    "# Input text\n",
    "input_text = \"\"\"\n",
    "Artificial intelligence (AI) is a concept that refers to a machine's ability to perform a task that would've previously required human intelligence. It's been around since the 1950s, and its definition has been modified over decades of research and technological advancements. \n",
    "Today, AI powers self-driving cars, laptops, chatbots like ChatGPT, and image generators. So what is it, and how does it work? The phrase AI comes from the idea that if intelligence is inherent to organic life, its existence elsewhere makes it artificial. Computer scientist Alan Turing was one of the first to explore the idea that machines could use information and logic to make decisions as people do. He coined the Turing test, which compares machine ability to human ability to see if people can detect it as artificial (convincing deepfakes are an example of AI passing the Turing test). \n",
    "Basic computing systems function because programmers code them to do specific tasks. AI, on the other hand, is only possible when computers can store information, including past commands, similar to how the human brain learns by storing skills and memories. This ability makes AI systems capable of adapting and performing new skills for tasks they weren't explicitly programmed to do. Some experts define intelligence as the ability to adapt, solve problems, plan, improvise in new situations, and learn new things. Though these systems aren't a replacement for human intelligence or social interaction, today's AI systems demonstrate some traits found in human intelligence, including learning, problem-solving, pattern-finding, perception, and even a limited spectrum of creativity and social awareness.\n",
    "Of course, an important component of human intelligence is something that AI hasn't been able to replicate yet: context. For example, Google AI lacks real-world logic and can't discern human subtleties like sarcasm and humor, as evidenced by the technology advising you to add glue to pizza sauce to help the cheese stick or use gasoline to make spaghetti spicy. These examples are lower stakes, but an AI system taking action without semantic understanding can have major consequences in the wrong situation. \n",
    "AI has a slew of possible applications, many of which are now widely available in everyday life. At the consumer level, this potential includes the newly revamped Google Search, wearables, and even vacuums. The smart speakers on your mantle with Alexa or Google voice assistant built-in are also great examples of AI. Popular AI chatbots like ChatGPT, Microsoft's Copilot, and Claude can be used for conversational questions or tasks, like breaking down concepts, drafting emails or project outlines, and even writing creative stories. But because AI models cannot tell fact from fiction, these chatbots tend to hallucinate or make things up -- where applicable, always verify the statements a chatbot makes with independent research, especially if you're unsure about the quality of its citations. \n",
    "A major function of AI in consumer products is personalization, whether for targeted ads or biometric security. This is why your phone can distinguish your face from someone else's when you're unlocking it with Face ID, for example -- it's learned what yours looks like by referencing billions of other people's faces and matching specific data points. \n",
    "On a bigger scale, marketing and content teams can use AI to streamline production, while developers write and execute code with it. AI can also exponentially increase the speed and efficiency of medical research.\n",
    "\"\"\""
   ]
  },
  {
   "cell_type": "code",
   "execution_count": 4,
   "id": "71e4c9a5-5c20-48b0-8967-8bbea793dedb",
   "metadata": {},
   "outputs": [
    {
     "name": "stdout",
     "output_type": "stream",
     "text": [
      "Collecting en-core-web-sm==3.7.1\n",
      "  Downloading https://github.com/explosion/spacy-models/releases/download/en_core_web_sm-3.7.1/en_core_web_sm-3.7.1-py3-none-any.whl (12.8 MB)\n",
      "     ---------------------------------------- 0.0/12.8 MB ? eta -:--:--\n",
      "     ---------------------------------------- 0.0/12.8 MB ? eta -:--:--\n",
      "     --------------------------------------- 0.0/12.8 MB 165.2 kB/s eta 0:01:18\n",
      "     --------------------------------------- 0.0/12.8 MB 187.9 kB/s eta 0:01:08\n",
      "     --------------------------------------- 0.1/12.8 MB 459.5 kB/s eta 0:00:28\n",
      "     -- ------------------------------------- 0.7/12.8 MB 3.1 MB/s eta 0:00:04\n",
      "     --------- ------------------------------ 3.1/12.8 MB 11.5 MB/s eta 0:00:01\n",
      "     --------- ------------------------------ 3.2/12.8 MB 10.2 MB/s eta 0:00:01\n",
      "     ---------- ----------------------------- 3.3/12.8 MB 9.5 MB/s eta 0:00:02\n",
      "     ---------- ----------------------------- 3.3/12.8 MB 9.5 MB/s eta 0:00:02\n",
      "     ---------- ----------------------------- 3.3/12.8 MB 7.3 MB/s eta 0:00:02\n",
      "     ---------- ----------------------------- 3.3/12.8 MB 7.3 MB/s eta 0:00:02\n",
      "     ---------- ----------------------------- 3.3/12.8 MB 7.3 MB/s eta 0:00:02\n",
      "     ----------- ---------------------------- 3.6/12.8 MB 5.8 MB/s eta 0:00:02\n",
      "     ----------- ---------------------------- 3.7/12.8 MB 5.5 MB/s eta 0:00:02\n",
      "     ------------ --------------------------- 3.9/12.8 MB 5.5 MB/s eta 0:00:02\n",
      "     ------------ --------------------------- 4.1/12.8 MB 5.2 MB/s eta 0:00:02\n",
      "     ------------ --------------------------- 4.1/12.8 MB 5.2 MB/s eta 0:00:02\n",
      "     ------------ --------------------------- 4.1/12.8 MB 4.6 MB/s eta 0:00:02\n",
      "     ------------- -------------------------- 4.4/12.8 MB 4.6 MB/s eta 0:00:02\n",
      "     -------------- ------------------------- 4.6/12.8 MB 4.6 MB/s eta 0:00:02\n",
      "     -------------- ------------------------- 4.6/12.8 MB 4.5 MB/s eta 0:00:02\n",
      "     -------------- ------------------------- 4.6/12.8 MB 4.5 MB/s eta 0:00:02\n",
      "     --------------- ------------------------ 4.9/12.8 MB 4.2 MB/s eta 0:00:02\n",
      "     --------------- ------------------------ 5.0/12.8 MB 4.1 MB/s eta 0:00:02\n",
      "     ---------------- ----------------------- 5.2/12.8 MB 4.1 MB/s eta 0:00:02\n",
      "     ---------------- ----------------------- 5.3/12.8 MB 4.1 MB/s eta 0:00:02\n",
      "     ---------------- ----------------------- 5.4/12.8 MB 4.0 MB/s eta 0:00:02\n",
      "     ---------------- ----------------------- 5.4/12.8 MB 4.0 MB/s eta 0:00:02\n",
      "     ---------------- ----------------------- 5.4/12.8 MB 4.0 MB/s eta 0:00:02\n",
      "     ------------------ --------------------- 5.9/12.8 MB 3.9 MB/s eta 0:00:02\n",
      "     ------------------- -------------------- 6.2/12.8 MB 3.9 MB/s eta 0:00:02\n",
      "     ------------------- -------------------- 6.3/12.8 MB 3.9 MB/s eta 0:00:02\n",
      "     ------------------- -------------------- 6.4/12.8 MB 3.9 MB/s eta 0:00:02\n",
      "     ------------------- -------------------- 6.4/12.8 MB 3.9 MB/s eta 0:00:02\n",
      "     -------------------- ------------------- 6.4/12.8 MB 3.7 MB/s eta 0:00:02\n",
      "     -------------------- ------------------- 6.6/12.8 MB 3.7 MB/s eta 0:00:02\n",
      "     --------------------- ------------------ 6.7/12.8 MB 3.6 MB/s eta 0:00:02\n",
      "     --------------------- ------------------ 6.8/12.8 MB 3.6 MB/s eta 0:00:02\n",
      "     --------------------- ------------------ 6.8/12.8 MB 3.6 MB/s eta 0:00:02\n",
      "     --------------------- ------------------ 7.0/12.8 MB 3.5 MB/s eta 0:00:02\n",
      "     ---------------------- ----------------- 7.1/12.8 MB 3.6 MB/s eta 0:00:02\n",
      "     ---------------------- ----------------- 7.1/12.8 MB 3.6 MB/s eta 0:00:02\n",
      "     ---------------------- ----------------- 7.3/12.8 MB 3.5 MB/s eta 0:00:02\n",
      "     ---------------------- ----------------- 7.3/12.8 MB 3.5 MB/s eta 0:00:02\n",
      "     ---------------------- ----------------- 7.3/12.8 MB 3.5 MB/s eta 0:00:02\n",
      "     ------------------------ --------------- 7.8/12.8 MB 3.4 MB/s eta 0:00:02\n",
      "     ------------------------- -------------- 8.1/12.8 MB 3.5 MB/s eta 0:00:02\n",
      "     ------------------------- -------------- 8.1/12.8 MB 3.5 MB/s eta 0:00:02\n",
      "     ------------------------- -------------- 8.1/12.8 MB 3.5 MB/s eta 0:00:02\n",
      "     ------------------------- -------------- 8.3/12.8 MB 3.4 MB/s eta 0:00:02\n",
      "     -------------------------- ------------- 8.4/12.8 MB 3.4 MB/s eta 0:00:02\n",
      "     --------------------------- ------------ 8.7/12.8 MB 3.4 MB/s eta 0:00:02\n",
      "     --------------------------- ------------ 8.8/12.8 MB 3.4 MB/s eta 0:00:02\n",
      "     ---------------------------- ----------- 9.0/12.8 MB 3.4 MB/s eta 0:00:02\n",
      "     ---------------------------- ----------- 9.0/12.8 MB 3.4 MB/s eta 0:00:02\n",
      "     ---------------------------- ----------- 9.0/12.8 MB 3.3 MB/s eta 0:00:02\n",
      "     ---------------------------- ----------- 9.2/12.8 MB 3.3 MB/s eta 0:00:02\n",
      "     ----------------------------- ---------- 9.3/12.8 MB 3.3 MB/s eta 0:00:02\n",
      "     ----------------------------- ---------- 9.4/12.8 MB 3.3 MB/s eta 0:00:02\n",
      "     ----------------------------- ---------- 9.4/12.8 MB 3.3 MB/s eta 0:00:02\n",
      "     ----------------------------- ---------- 9.5/12.8 MB 3.2 MB/s eta 0:00:02\n",
      "     ----------------------------- ---------- 9.5/12.8 MB 3.2 MB/s eta 0:00:02\n",
      "     ------------------------------- -------- 10.0/12.8 MB 3.3 MB/s eta 0:00:01\n",
      "     ------------------------------- -------- 10.1/12.8 MB 3.3 MB/s eta 0:00:01\n",
      "     ------------------------------- -------- 10.2/12.8 MB 3.3 MB/s eta 0:00:01\n",
      "     ------------------------------- -------- 10.2/12.8 MB 3.3 MB/s eta 0:00:01\n",
      "     -------------------------------- ------- 10.3/12.8 MB 3.3 MB/s eta 0:00:01\n",
      "     -------------------------------- ------- 10.5/12.8 MB 3.3 MB/s eta 0:00:01\n",
      "     --------------------------------- ------ 10.7/12.8 MB 3.3 MB/s eta 0:00:01\n",
      "     --------------------------------- ------ 10.8/12.8 MB 3.2 MB/s eta 0:00:01\n",
      "     ---------------------------------- ----- 11.0/12.8 MB 3.2 MB/s eta 0:00:01\n",
      "     ---------------------------------- ----- 11.1/12.8 MB 3.1 MB/s eta 0:00:01\n",
      "     ---------------------------------- ----- 11.1/12.8 MB 3.1 MB/s eta 0:00:01\n",
      "     ---------------------------------- ----- 11.1/12.8 MB 3.1 MB/s eta 0:00:01\n",
      "     ----------------------------------- ---- 11.3/12.8 MB 3.0 MB/s eta 0:00:01\n",
      "     ----------------------------------- ---- 11.5/12.8 MB 3.0 MB/s eta 0:00:01\n",
      "     ------------------------------------ --- 11.6/12.8 MB 2.9 MB/s eta 0:00:01\n",
      "     ------------------------------------ --- 11.8/12.8 MB 2.9 MB/s eta 0:00:01\n",
      "     ------------------------------------- -- 11.9/12.8 MB 2.9 MB/s eta 0:00:01\n",
      "     ------------------------------------- -- 12.0/12.8 MB 2.8 MB/s eta 0:00:01\n",
      "     ------------------------------------- -- 12.0/12.8 MB 2.8 MB/s eta 0:00:01\n",
      "     -------------------------------------- - 12.3/12.8 MB 2.8 MB/s eta 0:00:01\n",
      "     -------------------------------------- - 12.4/12.8 MB 2.7 MB/s eta 0:00:01\n",
      "     ---------------------------------------  12.6/12.8 MB 2.7 MB/s eta 0:00:01\n",
      "     ---------------------------------------  12.7/12.8 MB 2.7 MB/s eta 0:00:01\n",
      "     ---------------------------------------  12.8/12.8 MB 2.6 MB/s eta 0:00:01\n",
      "     ---------------------------------------  12.8/12.8 MB 2.6 MB/s eta 0:00:01\n",
      "     ---------------------------------------- 12.8/12.8 MB 2.6 MB/s eta 0:00:00\n",
      "Requirement already satisfied: spacy<3.8.0,>=3.7.2 in c:\\programdata\\anaconda3\\lib\\site-packages (from en-core-web-sm==3.7.1) (3.7.5)\n",
      "Requirement already satisfied: spacy-legacy<3.1.0,>=3.0.11 in c:\\programdata\\anaconda3\\lib\\site-packages (from spacy<3.8.0,>=3.7.2->en-core-web-sm==3.7.1) (3.0.12)\n",
      "Requirement already satisfied: spacy-loggers<2.0.0,>=1.0.0 in c:\\programdata\\anaconda3\\lib\\site-packages (from spacy<3.8.0,>=3.7.2->en-core-web-sm==3.7.1) (1.0.5)\n",
      "Requirement already satisfied: murmurhash<1.1.0,>=0.28.0 in c:\\programdata\\anaconda3\\lib\\site-packages (from spacy<3.8.0,>=3.7.2->en-core-web-sm==3.7.1) (1.0.10)\n",
      "Requirement already satisfied: cymem<2.1.0,>=2.0.2 in c:\\programdata\\anaconda3\\lib\\site-packages (from spacy<3.8.0,>=3.7.2->en-core-web-sm==3.7.1) (2.0.8)\n",
      "Requirement already satisfied: preshed<3.1.0,>=3.0.2 in c:\\programdata\\anaconda3\\lib\\site-packages (from spacy<3.8.0,>=3.7.2->en-core-web-sm==3.7.1) (3.0.9)\n",
      "Requirement already satisfied: thinc<8.3.0,>=8.2.2 in c:\\programdata\\anaconda3\\lib\\site-packages (from spacy<3.8.0,>=3.7.2->en-core-web-sm==3.7.1) (8.2.5)\n",
      "Requirement already satisfied: wasabi<1.2.0,>=0.9.1 in c:\\programdata\\anaconda3\\lib\\site-packages (from spacy<3.8.0,>=3.7.2->en-core-web-sm==3.7.1) (1.1.3)\n",
      "Requirement already satisfied: srsly<3.0.0,>=2.4.3 in c:\\programdata\\anaconda3\\lib\\site-packages (from spacy<3.8.0,>=3.7.2->en-core-web-sm==3.7.1) (2.4.8)\n",
      "Requirement already satisfied: catalogue<2.1.0,>=2.0.6 in c:\\programdata\\anaconda3\\lib\\site-packages (from spacy<3.8.0,>=3.7.2->en-core-web-sm==3.7.1) (2.0.10)\n",
      "Requirement already satisfied: weasel<0.5.0,>=0.1.0 in c:\\programdata\\anaconda3\\lib\\site-packages (from spacy<3.8.0,>=3.7.2->en-core-web-sm==3.7.1) (0.4.1)\n",
      "Requirement already satisfied: typer<1.0.0,>=0.3.0 in c:\\programdata\\anaconda3\\lib\\site-packages (from spacy<3.8.0,>=3.7.2->en-core-web-sm==3.7.1) (0.12.3)\n",
      "Requirement already satisfied: tqdm<5.0.0,>=4.38.0 in c:\\programdata\\anaconda3\\lib\\site-packages (from spacy<3.8.0,>=3.7.2->en-core-web-sm==3.7.1) (4.65.0)\n",
      "Requirement already satisfied: requests<3.0.0,>=2.13.0 in c:\\programdata\\anaconda3\\lib\\site-packages (from spacy<3.8.0,>=3.7.2->en-core-web-sm==3.7.1) (2.31.0)\n",
      "Requirement already satisfied: pydantic!=1.8,!=1.8.1,<3.0.0,>=1.7.4 in c:\\programdata\\anaconda3\\lib\\site-packages (from spacy<3.8.0,>=3.7.2->en-core-web-sm==3.7.1) (2.7.4)\n",
      "Requirement already satisfied: jinja2 in c:\\programdata\\anaconda3\\lib\\site-packages (from spacy<3.8.0,>=3.7.2->en-core-web-sm==3.7.1) (3.1.2)\n",
      "Requirement already satisfied: setuptools in c:\\programdata\\anaconda3\\lib\\site-packages (from spacy<3.8.0,>=3.7.2->en-core-web-sm==3.7.1) (68.2.2)\n",
      "Requirement already satisfied: packaging>=20.0 in c:\\programdata\\anaconda3\\lib\\site-packages (from spacy<3.8.0,>=3.7.2->en-core-web-sm==3.7.1) (23.1)\n",
      "Requirement already satisfied: langcodes<4.0.0,>=3.2.0 in c:\\programdata\\anaconda3\\lib\\site-packages (from spacy<3.8.0,>=3.7.2->en-core-web-sm==3.7.1) (3.4.0)\n",
      "Requirement already satisfied: numpy>=1.15.0 in c:\\programdata\\anaconda3\\lib\\site-packages (from spacy<3.8.0,>=3.7.2->en-core-web-sm==3.7.1) (1.24.3)\n",
      "Requirement already satisfied: language-data>=1.2 in c:\\programdata\\anaconda3\\lib\\site-packages (from langcodes<4.0.0,>=3.2.0->spacy<3.8.0,>=3.7.2->en-core-web-sm==3.7.1) (1.2.0)\n",
      "Requirement already satisfied: annotated-types>=0.4.0 in c:\\programdata\\anaconda3\\lib\\site-packages (from pydantic!=1.8,!=1.8.1,<3.0.0,>=1.7.4->spacy<3.8.0,>=3.7.2->en-core-web-sm==3.7.1) (0.7.0)\n",
      "Requirement already satisfied: pydantic-core==2.18.4 in c:\\programdata\\anaconda3\\lib\\site-packages (from pydantic!=1.8,!=1.8.1,<3.0.0,>=1.7.4->spacy<3.8.0,>=3.7.2->en-core-web-sm==3.7.1) (2.18.4)\n",
      "Requirement already satisfied: typing-extensions>=4.6.1 in c:\\programdata\\anaconda3\\lib\\site-packages (from pydantic!=1.8,!=1.8.1,<3.0.0,>=1.7.4->spacy<3.8.0,>=3.7.2->en-core-web-sm==3.7.1) (4.12.2)\n",
      "Requirement already satisfied: charset-normalizer<4,>=2 in c:\\programdata\\anaconda3\\lib\\site-packages (from requests<3.0.0,>=2.13.0->spacy<3.8.0,>=3.7.2->en-core-web-sm==3.7.1) (2.0.4)\n",
      "Requirement already satisfied: idna<4,>=2.5 in c:\\programdata\\anaconda3\\lib\\site-packages (from requests<3.0.0,>=2.13.0->spacy<3.8.0,>=3.7.2->en-core-web-sm==3.7.1) (3.4)\n",
      "Requirement already satisfied: urllib3<3,>=1.21.1 in c:\\programdata\\anaconda3\\lib\\site-packages (from requests<3.0.0,>=2.13.0->spacy<3.8.0,>=3.7.2->en-core-web-sm==3.7.1) (1.26.18)\n",
      "Requirement already satisfied: certifi>=2017.4.17 in c:\\programdata\\anaconda3\\lib\\site-packages (from requests<3.0.0,>=2.13.0->spacy<3.8.0,>=3.7.2->en-core-web-sm==3.7.1) (2023.11.17)\n",
      "Requirement already satisfied: blis<0.8.0,>=0.7.8 in c:\\programdata\\anaconda3\\lib\\site-packages (from thinc<8.3.0,>=8.2.2->spacy<3.8.0,>=3.7.2->en-core-web-sm==3.7.1) (0.7.11)\n",
      "Requirement already satisfied: confection<1.0.0,>=0.0.1 in c:\\programdata\\anaconda3\\lib\\site-packages (from thinc<8.3.0,>=8.2.2->spacy<3.8.0,>=3.7.2->en-core-web-sm==3.7.1) (0.1.5)\n",
      "Requirement already satisfied: colorama in c:\\programdata\\anaconda3\\lib\\site-packages (from tqdm<5.0.0,>=4.38.0->spacy<3.8.0,>=3.7.2->en-core-web-sm==3.7.1) (0.4.6)\n",
      "Requirement already satisfied: click>=8.0.0 in c:\\programdata\\anaconda3\\lib\\site-packages (from typer<1.0.0,>=0.3.0->spacy<3.8.0,>=3.7.2->en-core-web-sm==3.7.1) (8.1.7)\n",
      "Requirement already satisfied: shellingham>=1.3.0 in c:\\programdata\\anaconda3\\lib\\site-packages (from typer<1.0.0,>=0.3.0->spacy<3.8.0,>=3.7.2->en-core-web-sm==3.7.1) (1.5.4)\n",
      "Requirement already satisfied: rich>=10.11.0 in c:\\programdata\\anaconda3\\lib\\site-packages (from typer<1.0.0,>=0.3.0->spacy<3.8.0,>=3.7.2->en-core-web-sm==3.7.1) (13.3.5)\n",
      "Requirement already satisfied: cloudpathlib<1.0.0,>=0.7.0 in c:\\programdata\\anaconda3\\lib\\site-packages (from weasel<0.5.0,>=0.1.0->spacy<3.8.0,>=3.7.2->en-core-web-sm==3.7.1) (0.18.1)\n",
      "Requirement already satisfied: smart-open<8.0.0,>=5.2.1 in c:\\programdata\\anaconda3\\lib\\site-packages (from weasel<0.5.0,>=0.1.0->spacy<3.8.0,>=3.7.2->en-core-web-sm==3.7.1) (5.2.1)\n",
      "Requirement already satisfied: MarkupSafe>=2.0 in c:\\programdata\\anaconda3\\lib\\site-packages (from jinja2->spacy<3.8.0,>=3.7.2->en-core-web-sm==3.7.1) (2.1.3)\n",
      "Requirement already satisfied: marisa-trie>=0.7.7 in c:\\programdata\\anaconda3\\lib\\site-packages (from language-data>=1.2->langcodes<4.0.0,>=3.2.0->spacy<3.8.0,>=3.7.2->en-core-web-sm==3.7.1) (1.2.0)\n",
      "Requirement already satisfied: markdown-it-py<3.0.0,>=2.2.0 in c:\\programdata\\anaconda3\\lib\\site-packages (from rich>=10.11.0->typer<1.0.0,>=0.3.0->spacy<3.8.0,>=3.7.2->en-core-web-sm==3.7.1) (2.2.0)\n",
      "Requirement already satisfied: pygments<3.0.0,>=2.13.0 in c:\\programdata\\anaconda3\\lib\\site-packages (from rich>=10.11.0->typer<1.0.0,>=0.3.0->spacy<3.8.0,>=3.7.2->en-core-web-sm==3.7.1) (2.15.1)\n",
      "Requirement already satisfied: mdurl~=0.1 in c:\\programdata\\anaconda3\\lib\\site-packages (from markdown-it-py<3.0.0,>=2.2.0->rich>=10.11.0->typer<1.0.0,>=0.3.0->spacy<3.8.0,>=3.7.2->en-core-web-sm==3.7.1) (0.1.0)\n",
      "\u001b[38;5;2m[+] Download and installation successful\u001b[0m\n",
      "You can now load the package via spacy.load('en_core_web_sm')\n"
     ]
    }
   ],
   "source": [
    "!python -m spacy download en_core_web_sm"
   ]
  },
  {
   "cell_type": "code",
   "execution_count": 5,
   "id": "4784208d-6b13-4b83-965e-373d05a52606",
   "metadata": {},
   "outputs": [],
   "source": [
    "# Load the spacy model\n",
    "nlp = spacy.load('en_core_web_sm')"
   ]
  },
  {
   "cell_type": "code",
   "execution_count": 6,
   "id": "671fd1e2-2f6b-4478-8340-07611e885a80",
   "metadata": {},
   "outputs": [],
   "source": [
    "# Define the number of generated MCQs\n",
    "NUM_QUESTIONS = 5"
   ]
  },
  {
   "cell_type": "code",
   "execution_count": 7,
   "id": "64212f21-dcf0-4a9b-95c3-f0debaf73bee",
   "metadata": {},
   "outputs": [],
   "source": [
    "# Process the sample text\n",
    "doc = nlp(input_text)"
   ]
  },
  {
   "cell_type": "code",
   "execution_count": 8,
   "id": "3101944e-52ac-4afe-8ca6-963a9972de3a",
   "metadata": {},
   "outputs": [
    {
     "data": {
      "text/plain": [
       "\n",
       "Artificial intelligence (AI) is a concept that refers to a machine's ability to perform a task that would've previously required human intelligence. It's been around since the 1950s, and its definition has been modified over decades of research and technological advancements. \n",
       "Today, AI powers self-driving cars, laptops, chatbots like ChatGPT, and image generators. So what is it, and how does it work? The phrase AI comes from the idea that if intelligence is inherent to organic life, its existence elsewhere makes it artificial. Computer scientist Alan Turing was one of the first to explore the idea that machines could use information and logic to make decisions as people do. He coined the Turing test, which compares machine ability to human ability to see if people can detect it as artificial (convincing deepfakes are an example of AI passing the Turing test). \n",
       "Basic computing systems function because programmers code them to do specific tasks. AI, on the other hand, is only possible when computers can store information, including past commands, similar to how the human brain learns by storing skills and memories. This ability makes AI systems capable of adapting and performing new skills for tasks they weren't explicitly programmed to do. Some experts define intelligence as the ability to adapt, solve problems, plan, improvise in new situations, and learn new things. Though these systems aren't a replacement for human intelligence or social interaction, today's AI systems demonstrate some traits found in human intelligence, including learning, problem-solving, pattern-finding, perception, and even a limited spectrum of creativity and social awareness.\n",
       "Of course, an important component of human intelligence is something that AI hasn't been able to replicate yet: context. For example, Google AI lacks real-world logic and can't discern human subtleties like sarcasm and humor, as evidenced by the technology advising you to add glue to pizza sauce to help the cheese stick or use gasoline to make spaghetti spicy. These examples are lower stakes, but an AI system taking action without semantic understanding can have major consequences in the wrong situation. \n",
       "AI has a slew of possible applications, many of which are now widely available in everyday life. At the consumer level, this potential includes the newly revamped Google Search, wearables, and even vacuums. The smart speakers on your mantle with Alexa or Google voice assistant built-in are also great examples of AI. Popular AI chatbots like ChatGPT, Microsoft's Copilot, and Claude can be used for conversational questions or tasks, like breaking down concepts, drafting emails or project outlines, and even writing creative stories. But because AI models cannot tell fact from fiction, these chatbots tend to hallucinate or make things up -- where applicable, always verify the statements a chatbot makes with independent research, especially if you're unsure about the quality of its citations. \n",
       "A major function of AI in consumer products is personalization, whether for targeted ads or biometric security. This is why your phone can distinguish your face from someone else's when you're unlocking it with Face ID, for example -- it's learned what yours looks like by referencing billions of other people's faces and matching specific data points. \n",
       "On a bigger scale, marketing and content teams can use AI to streamline production, while developers write and execute code with it. AI can also exponentially increase the speed and efficiency of medical research."
      ]
     },
     "execution_count": 8,
     "metadata": {},
     "output_type": "execute_result"
    }
   ],
   "source": [
    "doc"
   ]
  },
  {
   "cell_type": "code",
   "execution_count": 9,
   "id": "f7c9b0ca-3e1f-4556-9858-d24f0c9e628c",
   "metadata": {},
   "outputs": [],
   "source": [
    "# Extract the sentences\n",
    "sentences = [sentence.text for sentence in doc.sents]"
   ]
  },
  {
   "cell_type": "code",
   "execution_count": 10,
   "id": "02297ccb-a6d5-43b2-a6b4-f808b243b589",
   "metadata": {},
   "outputs": [
    {
     "data": {
      "text/plain": [
       "[\"\\nArtificial intelligence (AI) is a concept that refers to a machine's ability to perform a task that would've previously required human intelligence.\",\n",
       " \"It's been around since the 1950s, and its definition has been modified over decades of research and technological advancements. \\n\",\n",
       " 'Today, AI powers self-driving cars, laptops, chatbots like ChatGPT, and image generators.',\n",
       " 'So what is it, and how does it work?',\n",
       " 'The phrase AI comes from the idea that if intelligence is inherent to organic life, its existence elsewhere makes it artificial.',\n",
       " 'Computer scientist Alan Turing was one of the first to explore the idea that machines could use information and logic to make decisions as people do.',\n",
       " 'He coined the Turing test, which compares machine ability to human ability to see if people can detect it as artificial (convincing deepfakes are an example of AI passing the Turing test). \\n',\n",
       " 'Basic computing systems function because programmers code them to do specific tasks.',\n",
       " 'AI, on the other hand, is only possible when computers can store information, including past commands, similar to how the human brain learns by storing skills and memories.',\n",
       " \"This ability makes AI systems capable of adapting and performing new skills for tasks they weren't explicitly programmed to do.\",\n",
       " 'Some experts define intelligence as the ability to adapt, solve problems, plan, improvise in new situations, and learn new things.',\n",
       " \"Though these systems aren't a replacement for human intelligence or social interaction, today's AI systems demonstrate some traits found in human intelligence, including learning, problem-solving, pattern-finding, perception, and even a limited spectrum of creativity and social awareness.\\n\",\n",
       " \"Of course, an important component of human intelligence is something that AI hasn't been able to replicate yet: context.\",\n",
       " \"For example, Google AI lacks real-world logic and can't discern human subtleties like sarcasm and humor, as evidenced by the technology advising you to add glue to pizza sauce to help the cheese stick or use gasoline to make spaghetti spicy.\",\n",
       " 'These examples are lower stakes, but an AI system taking action without semantic understanding can have major consequences in the wrong situation. \\n',\n",
       " 'AI has a slew of possible applications, many of which are now widely available in everyday life.',\n",
       " 'At the consumer level, this potential includes the newly revamped Google Search, wearables, and even vacuums.',\n",
       " 'The smart speakers on your mantle with Alexa or Google voice assistant built-in are also great examples of AI.',\n",
       " \"Popular AI chatbots like ChatGPT, Microsoft's Copilot, and Claude can be used for conversational questions or tasks, like breaking down concepts, drafting emails or project outlines, and even writing creative stories.\",\n",
       " \"But because AI models cannot tell fact from fiction, these chatbots tend to hallucinate or make things up -- where applicable, always verify the statements a chatbot makes with independent research, especially if you're unsure about the quality of its citations. \\n\",\n",
       " 'A major function of AI in consumer products is personalization, whether for targeted ads or biometric security.',\n",
       " \"This is why your phone can distinguish your face from someone else's when you're unlocking it with Face ID, for example -- it's learned what yours looks like by referencing billions of other people's faces and matching specific data points. \\n\",\n",
       " 'On a bigger scale, marketing and content teams can use AI to streamline production, while developers write and execute code with it.',\n",
       " 'AI can also exponentially increase the speed and efficiency of medical research.\\n']"
      ]
     },
     "execution_count": 10,
     "metadata": {},
     "output_type": "execute_result"
    }
   ],
   "source": [
    "sentences"
   ]
  },
  {
   "cell_type": "code",
   "execution_count": 11,
   "id": "7d02ba67-5457-49de-bcf1-3c052294289e",
   "metadata": {},
   "outputs": [
    {
     "data": {
      "text/plain": [
       "24"
      ]
     },
     "execution_count": 11,
     "metadata": {},
     "output_type": "execute_result"
    }
   ],
   "source": [
    "len(sentences)"
   ]
  },
  {
   "cell_type": "code",
   "execution_count": 12,
   "id": "34e83cb3-3391-4fc5-b1ef-3afbad7814d0",
   "metadata": {},
   "outputs": [],
   "source": [
    "# Choose random sentences for questions\n",
    "# The number of chosen sentences = NUM_QUESTIONS\n",
    "selected_sentences = random.sample(sentences, (min(NUM_QUESTIONS,len(sentences))))"
   ]
  },
  {
   "cell_type": "code",
   "execution_count": 13,
   "id": "0d3eeed9-07e0-4baf-9a73-c90ddc1831cd",
   "metadata": {},
   "outputs": [
    {
     "data": {
      "text/plain": [
       "['So what is it, and how does it work?',\n",
       " \"It's been around since the 1950s, and its definition has been modified over decades of research and technological advancements. \\n\",\n",
       " \"Of course, an important component of human intelligence is something that AI hasn't been able to replicate yet: context.\",\n",
       " 'AI has a slew of possible applications, many of which are now widely available in everyday life.',\n",
       " \"This ability makes AI systems capable of adapting and performing new skills for tasks they weren't explicitly programmed to do.\"]"
      ]
     },
     "execution_count": 13,
     "metadata": {},
     "output_type": "execute_result"
    }
   ],
   "source": [
    "selected_sentences"
   ]
  },
  {
   "cell_type": "code",
   "execution_count": 39,
   "id": "b8bfda45-77f3-4a8f-ab88-cd20dacd97bb",
   "metadata": {},
   "outputs": [],
   "source": [
    "def generate_mcqs(input_text, num_questions = 5):\n",
    "\n",
    "    # Process the input text\n",
    "    doc = nlp(input_text)\n",
    "\n",
    "    # Extract the sentences\n",
    "    sentences = [sentence.text for sentence in doc.sents]\n",
    "\n",
    "    # Initialize the multiple choice questions tuples array\n",
    "    mcqs = []\n",
    "\n",
    "    # Choose random sentences for questions\n",
    "    # The number of chosen sentences = num_questions\n",
    "    selected_sentences = random.sample(sentences, (min(num_questions,len(sentences))))\n",
    "    \n",
    "    # Generate MCQs for each selected sentence\n",
    "    for sentence in selected_sentences:\n",
    "        \n",
    "        # Convert the sentence to lower case\n",
    "        sentence = sentence.lower()\n",
    "        \n",
    "        # Process the sentence with the spacy model to get a Doc object\n",
    "        sentence_doc = nlp(sentence)\n",
    "        \n",
    "        # Extract nouns from the sentence\n",
    "        nouns = [token.text for token in sentence_doc if token.pos_ == 'NOUN']\n",
    "        \n",
    "        # If there are fewer than 2 nouns, skip this sentence\n",
    "        if len(nouns) < 2:\n",
    "            continue\n",
    "    \n",
    "        # Count the frequency of each noun in the sentence\n",
    "        noun_counts = Counter(nouns)\n",
    "    \n",
    "        # If there are any nouns counted\n",
    "        if noun_counts:\n",
    "            # Select the most common noun as the subject\n",
    "            subject = noun_counts.most_common(1)[0][0]\n",
    "            # Initialize the list of answer choices with the subject as the correct answer\n",
    "            answer_choices = [subject]\n",
    "            # Create the question stem by replacing the subject with a blank\n",
    "            question_stem = sentence.replace(subject, \"_____________\")\n",
    "\n",
    "            \"\"\"\n",
    "            # Add three distractors to the answer choices\n",
    "            for _ in range(3):\n",
    "                distractor = random.choice(list(set(nouns) - set([subject])))\n",
    "                answer_choices.append(distractor)\n",
    "            \"\"\"\n",
    "            # Add distractors to the answer choices\n",
    "            while len(answer_choices) < 4:\n",
    "                distractor = random.choice(list(set(nouns) - set(answer_choices)))\n",
    "                if distractor not in answer_choices:\n",
    "                    answer_choices.append(distractor)\n",
    "                \n",
    "                # If we run out of unique nouns, add a random filler word\n",
    "                if len(answer_choices) < 4 and len(set(nouns) - set(answer_choices)) == 0:\n",
    "                    filler_word = random.choice(['apple', 'banana', 'car', 'dog'])\n",
    "                    if filler_word not in answer_choices:\n",
    "                        answer_choices.append(filler_word)\n",
    "    \n",
    "            # Shuffle the answer choices\n",
    "            random.shuffle(answer_choices)\n",
    "            # Determine the correct answer's position in the shuffled list\n",
    "            correct_answer = chr(64 + answer_choices.index(subject) + 1)\n",
    "            # Add the question, answer choices, and correct answer to the list of MCQs\n",
    "            mcqs.append((question_stem, answer_choices, correct_answer))\n",
    "\n",
    "    return mcqs"
   ]
  },
  {
   "cell_type": "code",
   "execution_count": 40,
   "id": "fe797ca6-9f78-4330-b699-e35c0a14ee4c",
   "metadata": {},
   "outputs": [],
   "source": [
    "mcqs = generate_mcqs(input_text, NUM_QUESTIONS)"
   ]
  },
  {
   "cell_type": "code",
   "execution_count": 41,
   "id": "bb25992f-5068-4924-bdc2-a89f9a7cb076",
   "metadata": {},
   "outputs": [
    {
     "data": {
      "text/plain": [
       "[(\"it's been around since the 1950s, and its _____________ has been modified over decades of research and technological advancements. \\n\",\n",
       "  ['definition', 'advancements', 'research', 'decades'],\n",
       "  'A'),\n",
       " (\"of _____________, an important component of human intelligence is something that ai hasn't been able to replicate yet: context.\",\n",
       "  ['component', 'intelligence', 'course', 'context'],\n",
       "  'C'),\n",
       " ('ai has a _____________ of possible applications, many of which are now widely available in everyday life.',\n",
       "  ['apple', 'slew', 'life', 'applications'],\n",
       "  'B'),\n",
       " (\"this _____________ makes ai systems capable of adapting and performing new skills for tasks they weren't explicitly programmed to do.\",\n",
       "  ['tasks', 'skills', 'systems', 'ability'],\n",
       "  'D')]"
      ]
     },
     "execution_count": 41,
     "metadata": {},
     "output_type": "execute_result"
    }
   ],
   "source": [
    "mcqs"
   ]
  },
  {
   "cell_type": "code",
   "execution_count": 44,
   "id": "77b9def2-8bae-4e4e-b613-08367f674905",
   "metadata": {},
   "outputs": [
    {
     "name": "stdout",
     "output_type": "stream",
     "text": [
      "Q1: it's been around since the 1950s, and its _____________ has been modified over decades of research and technological advancements. \n",
      "\n",
      "A: definition\n",
      "B: advancements\n",
      "C: research\n",
      "D: decades\n",
      "Correct Answer: A\n",
      "=========================================================\n",
      "Q2: of _____________, an important component of human intelligence is something that ai hasn't been able to replicate yet: context.\n",
      "A: component\n",
      "B: intelligence\n",
      "C: course\n",
      "D: context\n",
      "Correct Answer: C\n",
      "=========================================================\n",
      "Q3: ai has a _____________ of possible applications, many of which are now widely available in everyday life.\n",
      "A: apple\n",
      "B: slew\n",
      "C: life\n",
      "D: applications\n",
      "Correct Answer: B\n",
      "=========================================================\n",
      "Q4: this _____________ makes ai systems capable of adapting and performing new skills for tasks they weren't explicitly programmed to do.\n",
      "A: tasks\n",
      "B: skills\n",
      "C: systems\n",
      "D: ability\n",
      "Correct Answer: D\n",
      "=========================================================\n"
     ]
    }
   ],
   "source": [
    "for i, mcq in enumerate(mcqs, start=1):\n",
    "    question_stem, answer_choices, correct_answer = mcq\n",
    "    print(f\"Q{i}: {question_stem}\")\n",
    "    for j, choice in enumerate(answer_choices, start=1):\n",
    "        print(f\"{chr(64 + j)}: {choice}\")\n",
    "    print(f\"Correct Answer: {correct_answer}\")\n",
    "    print('=========================================================')"
   ]
  },
  {
   "cell_type": "code",
   "execution_count": null,
   "id": "60680a32-c765-4acf-acbb-09fd62dcc42d",
   "metadata": {},
   "outputs": [],
   "source": []
  }
 ],
 "metadata": {
  "kernelspec": {
   "display_name": "Python 3 (ipykernel)",
   "language": "python",
   "name": "python3"
  },
  "language_info": {
   "codemirror_mode": {
    "name": "ipython",
    "version": 3
   },
   "file_extension": ".py",
   "mimetype": "text/x-python",
   "name": "python",
   "nbconvert_exporter": "python",
   "pygments_lexer": "ipython3",
   "version": "3.8.18"
  }
 },
 "nbformat": 4,
 "nbformat_minor": 5
}
