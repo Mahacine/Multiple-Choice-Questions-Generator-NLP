{
 "cells": [
  {
   "cell_type": "markdown",
   "id": "9edd5471-a3db-4c80-a7d6-8cb20b8a1cbd",
   "metadata": {},
   "source": [
    "# Multiple Choice Questions Generator NLP"
   ]
  },
  {
   "cell_type": "code",
   "execution_count": 3,
   "id": "395f3e7c-1945-4bce-b1e6-10434ceffd32",
   "metadata": {},
   "outputs": [],
   "source": [
    "import numpy as np"
   ]
  },
  {
   "cell_type": "code",
   "execution_count": null,
   "id": "39593d61-c100-441c-98ee-90996af8554e",
   "metadata": {},
   "outputs": [],
   "source": []
  }
 ],
 "metadata": {
  "kernelspec": {
   "display_name": "Python 3 (ipykernel)",
   "language": "python",
   "name": "python3"
  },
  "language_info": {
   "codemirror_mode": {
    "name": "ipython",
    "version": 3
   },
   "file_extension": ".py",
   "mimetype": "text/x-python",
   "name": "python",
   "nbconvert_exporter": "python",
   "pygments_lexer": "ipython3",
   "version": "3.8.18"
  }
 },
 "nbformat": 4,
 "nbformat_minor": 5
}
